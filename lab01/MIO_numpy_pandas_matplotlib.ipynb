{
 "cells": [
  {
   "cell_type": "markdown",
   "metadata": {
    "id": "NFJ_P_SSuSup"
   },
   "source": [
    "*Karolina Wadowska [wadowska@agh.edu.pl], Maciej Trzciński [mtrzcins@agh.edu.pl], WFiIS AGH 2024*"
   ]
  },
  {
   "cell_type": "markdown",
   "metadata": {
    "id": "97d3W6Zsq-KL"
   },
   "source": [
    "## Wstęp do numpy, pandas i matplotliba (dla zainteresowanych)\n",
    "\n",
    "Na zajęciach będziemy prezentować rozwiązania zadań używając NumPy i matplotliba. Dodatkowo często będziemy pobierać dane z plików, w czym przydaje się Pandas. Ich znajomość może się przydać, ale programistyczne aspekty na zajęciach nie podlegają ocenie, dopóki wyniki są poprawne.\n",
    "\n",
    "Zwłaszcza dla tych, którzy nie mają dużego doświadczenia z pythonem, polecamy zapoznanie się z tym notebookiem, bo może on znacznie ułatwić pracę na zajęciach.\n",
    "\n",
    "Zarówno numpy, pandas jak i matplotlib mogą się Państwu przydać w przyszłości np. przy pisaniu pracy inżynierskiej i generowaniu wykresów, ale też w pracy, jeżeli będą Państwo musieli tworzyć wizualne raporty lub pracować z jakąkolwiek analizą danych, zwłaszcza, że narzędzia te stanowią wygodną i nowoczesną alternatywę dla oprogramowania takiego jak matlab, R, gnuplot."
   ]
  },
  {
   "cell_type": "markdown",
   "metadata": {
    "id": "bc3PF2noZ6Q9"
   },
   "source": [
    "## Czym jest NumPy i czemu z niego korzystamy?\n",
    "\n",
    "Wykonywanie operacji matematycznych na wbudowanej strukturze listy w Pythonie jest często niewygodne i stosunkowo wolne. NumPy (Numerical Python) to biblioteka dla języka Python oferująca wsparcie dla obliczeń na wielowymiarowych danych, takich jak szybkie dodawanie i przeszukiwanie wektorów, mnożenie macierzy, liczenie transformat Fouriera, i tak dalej.\n",
    "\n",
    "Numpy jest często wykorzystywany w obliczeniach numerycznych, a dla wielu bibliotek AI jest albo podstawową, albo pomocniczą biblioteką do przechowywania danych.\n",
    "\n",
    "Podstawą NumPy jest array, który jest wielowymiarową tablicą liczb. Co ważne, wszystkie elementy arraya są tego samego typu."
   ]
  },
  {
   "cell_type": "code",
   "execution_count": null,
   "metadata": {
    "id": "ig11yM9QbODs"
   },
   "outputs": [],
   "source": [
    "# importowanie numpy\n",
    "import numpy as np"
   ]
  },
  {
   "cell_type": "code",
   "execution_count": null,
   "metadata": {
    "colab": {
     "base_uri": "https://localhost:8080/"
    },
    "id": "iMUEgo79a_pc",
    "outputId": "b2df48df-ec35-41b4-ad15-367e988c69a7"
   },
   "outputs": [],
   "source": [
    "# Array można stworzyć na różne sposoby\n",
    "# Funkcja zeros tworzy array wypełniony zerami, a pierwszy argument to lista (uwaga! Listy zawieramy w nawiasach okrągłych) określająca wymiary tego arraya.\n",
    "# Przykładowo (2, 3) oznacza stworzenie tablicy 2 na 3.\n",
    "# Podanie pojedynczej liczby zamiast listy spowoduje stworzenie 1-wymiarowej liczby\n",
    "arr1 = np.zeros((2,10))\n",
    "arr1"
   ]
  },
  {
   "cell_type": "code",
   "execution_count": null,
   "metadata": {
    "colab": {
     "base_uri": "https://localhost:8080/"
    },
    "id": "gs4pcYeycI34",
    "outputId": "a0d09f24-88d3-48b2-d3dc-f99c964f0911"
   },
   "outputs": [],
   "source": [
    "# Inny sposób tworzenia arraya to arange, który tworzy 1-wymiarowy array i wypełnia go wartościami z podanego zakresu\n",
    "# Argumenty podaje się w sposób podobny do wbudowanej w pythona funkcji range\n",
    "arr2 = np.arange(start=1.0, stop = 2.0, step = 0.1)\n",
    "arr2"
   ]
  },
  {
   "cell_type": "code",
   "execution_count": null,
   "metadata": {
    "colab": {
     "base_uri": "https://localhost:8080/"
    },
    "id": "ybZ_BOITlT68",
    "outputId": "1dc0a1d4-5011-4b9f-a4a6-05aa5a2aa26d"
   },
   "outputs": [],
   "source": [
    "# Używając funkcji linspace, możemy w NumPy stworzyć array pomiędzy dwoma wartościami,\n",
    "# z dowolną ilością kroków pomiędzy\n",
    "linspace_array = np.linspace(-2,2,6)\n",
    "linspace_array"
   ]
  },
  {
   "cell_type": "code",
   "execution_count": null,
   "metadata": {
    "colab": {
     "base_uri": "https://localhost:8080/"
    },
    "id": "92WtRLRrpMCl",
    "outputId": "1abd562c-8ee9-45ba-dddb-d1c02b7a78a2"
   },
   "outputs": [],
   "source": [
    "# Używając funkcji random.normal można wygenerować punkty z rozkładu normalnego.\n",
    "# Pierwszy argument to mu (wart. oczekiwana), drugi to sigma (odch. standardowe),\n",
    "# trzeci argument to ilość elementów\n",
    "normal_array = np.random.normal(0,1,20)\n",
    "normal_array"
   ]
  },
  {
   "cell_type": "code",
   "execution_count": null,
   "metadata": {
    "colab": {
     "base_uri": "https://localhost:8080/"
    },
    "id": "WDvgJBNlleRk",
    "outputId": "68fbf0e4-bef3-4b4d-f804-4d30195862a5"
   },
   "outputs": [],
   "source": [
    "# Możemy często wykonywać operacje na arrayach jakby były liczbami\n",
    "# Są wtedy wykonywane jakby były wykonywane na każdym elemencie arrayu\n",
    "np.sqrt(linspace_array + 6) * 3"
   ]
  },
  {
   "cell_type": "code",
   "execution_count": null,
   "metadata": {
    "colab": {
     "base_uri": "https://localhost:8080/"
    },
    "id": "T9f1REdkdRhC",
    "outputId": "5ade851d-0723-41a3-f5c0-67068973801e"
   },
   "outputs": [],
   "source": [
    "# Można też stworzyć array ze zwykłej pythonowej listy. Lista list zostanie zamieniona na pojedynczy, wielowymiarowy array\n",
    "arr3 = np.array([[1,2],[3,4]])\n",
    "arr3"
   ]
  },
  {
   "cell_type": "code",
   "execution_count": null,
   "metadata": {
    "colab": {
     "base_uri": "https://localhost:8080/"
    },
    "id": "4f9p6Pufcsl3",
    "outputId": "accf20ed-5ace-4333-83da-e3120f2be132"
   },
   "outputs": [],
   "source": [
    "# Ważną rzeczą w numpy są osie (axes), czyli wymiary tablicy. Wiele operacji wykonuje się względem któregoś wymiaru.\n",
    "# Jedną z podstawowych operacji, czyli konkatenację, można wykonać względem różnych osi. W zależności od tego,\n",
    "# po której osi sklejamy arraye 2-wymiarowe, będziemy mieć konkatenację według kolumn lub według rzędów.\n",
    "arr4 = np.array([[5,6],[7,8]])\n",
    "print(\"Po osi 0\")\n",
    "print(np.concatenate((arr3,arr4),axis=0))\n",
    "print(\"Po osi 1:\")\n",
    "print(np.concatenate((arr3,arr4),axis=1))"
   ]
  },
  {
   "cell_type": "code",
   "execution_count": null,
   "metadata": {
    "colab": {
     "base_uri": "https://localhost:8080/"
    },
    "id": "Yat7POFgfsvS",
    "outputId": "53509f6b-bb4f-463e-b74c-b91be1468039"
   },
   "outputs": [],
   "source": [
    "# Wymiary arraya można otrzymać z atrybutu shape, a całkowitą ilość elementów z atrybutu size\n",
    "print(\"Kształt arr1: \", arr1.shape)\n",
    "print(\"Rozmiar arr1: \", arr1.size)"
   ]
  },
  {
   "cell_type": "code",
   "execution_count": null,
   "metadata": {
    "colab": {
     "base_uri": "https://localhost:8080/"
    },
    "id": "heT_5YnGgIvM",
    "outputId": "a382a76b-4732-48f7-f4db-a0194d8057f5"
   },
   "outputs": [],
   "source": [
    "# Dostęp do elementów arraya można realizować wpisując koordynaty w pojedynczy nawias kwadratowy.\n",
    "# Użycie \":\" działa w tym wypadku podobnie jak w wypadku zwykłych list w pythonie\n",
    "\n",
    "arr5 = np.array([[0,1,2,3,4,5,6,7,8,9],[10,11,12,13,14,15,16,17,18,19]])\n",
    "\n",
    "print(\"Element 0,3 z arr5: \", arr5[0,3])\n",
    "print(\"Elementy z rzędu 0 i kolumn 0, 1 i 2:\", arr5[0,:3])\n",
    "print(\"Elementy z kolumny 8:\", arr5[:,8])"
   ]
  },
  {
   "cell_type": "code",
   "execution_count": null,
   "metadata": {
    "colab": {
     "base_uri": "https://localhost:8080/"
    },
    "id": "WbK20oFAg8pF",
    "outputId": "403aa21b-f9ae-4d7f-a0b8-b0275077ad7f"
   },
   "outputs": [],
   "source": [
    "# W NumPy wiele funkcji matematycznych jest wbudowanych w jedną wygodną funkcję.\n",
    "\n",
    "# Dodawanie dwóch arrayów:\n",
    "print(np.add(arr3,arr4))"
   ]
  },
  {
   "cell_type": "code",
   "execution_count": null,
   "metadata": {
    "colab": {
     "base_uri": "https://localhost:8080/"
    },
    "id": "AUw3RyyphYKJ",
    "outputId": "82c9815f-c733-422a-a8db-206c6dff747c"
   },
   "outputs": [],
   "source": [
    "# Mnożenie arraya razy skalar:\n",
    "print(arr3*100.)"
   ]
  },
  {
   "cell_type": "code",
   "execution_count": null,
   "metadata": {
    "colab": {
     "base_uri": "https://localhost:8080/"
    },
    "id": "Ric4MbgYhdjR",
    "outputId": "1236eaa8-1417-4453-d583-12263b7066b1"
   },
   "outputs": [],
   "source": [
    "# szukanie maximum i indeksu maksimum\n",
    "arr6 = np.array([3.,9.,1.,7.,15.,0.,0.5,3.5])\n",
    "print(np.max(arr6))\n",
    "print(np.argmax(arr6))\n",
    "print(np.sort(arr6))"
   ]
  },
  {
   "cell_type": "code",
   "execution_count": null,
   "metadata": {
    "colab": {
     "base_uri": "https://localhost:8080/"
    },
    "id": "RZZBXYviiYdK",
    "outputId": "5f512dd0-d109-451d-ede8-85fbc8c9fca2"
   },
   "outputs": [],
   "source": [
    "# Numpy obsługuje też większość operacji na macierzach, np. szukanie wyznacznika\n",
    "np.linalg.det(arr3)"
   ]
  },
  {
   "cell_type": "code",
   "execution_count": null,
   "metadata": {
    "colab": {
     "base_uri": "https://localhost:8080/"
    },
    "id": "djFCTyWsONes",
    "outputId": "4823d691-ead1-4e7d-8ea0-0f9f41857302"
   },
   "outputs": [],
   "source": [
    "# Czasem przydatne może być zmienianie kształtu arraya np. zamienianie 1-wymiarowej tablicy danych na macierz\n",
    "# albo \"wypłaszczanie\" elementów macierzy w jednowymiarowy array. Służy do tego funkcja reshape.\n",
    "\n",
    "array_to_reshape= np.array([[1,2,3],[4,5,6]])\n",
    "print(array_to_reshape)\n",
    "print(np.reshape(array_to_reshape, newshape=(6)))"
   ]
  },
  {
   "cell_type": "markdown",
   "metadata": {
    "id": "-Ntj7umNPHco"
   },
   "source": [
    "### Przydatne funkcje matematyczne w NumPy\n",
    "\n",
    "- **sin(array)** - sinus na każdym elemencie arraya osobno\n",
    "- **cos(array)** - cosinus na każdym elemencie arraya osobno\n",
    "- **sqrt(array)** - pierwiastek kwadratowy na każdym elemencie arraya osobno\n",
    "- **sum(array)** - suma elementów w arrayu\n",
    "- **mean(array)** - średnia arytmetyczna elementów w arrayu\n",
    "- **max(array)**, **min(array)** - maximum/minimum w arrayu\n",
    "- **argmax(array)**, **argmin(array)** - indeks największego/najmniejszego elementu w arrayu\n",
    "\n",
    "... i wiele innych"
   ]
  },
  {
   "cell_type": "markdown",
   "metadata": {
    "id": "03XOe_4kikkd"
   },
   "source": [
    "### Materiały do nauki numpy:\n",
    "https://numpy.org/devdocs/user/quickstart.html\n",
    "\n",
    "https://www.w3schools.com/python/numpy/numpy_intro.asp"
   ]
  },
  {
   "cell_type": "markdown",
   "metadata": {
    "id": "NtL5YkawQwJi"
   },
   "source": [
    "## Pandas\n",
    "\n",
    "Biblioteką blisko współpracującą z NumPy służącą do analizy danych i ich przetwarzania jest biblioteka Pandas, operująca na tzw. DataFrames, będących wygodnymi obiektami przechowującymi dane różnych typów w formie przypominającej tabele.\n",
    "\n"
   ]
  },
  {
   "cell_type": "code",
   "execution_count": null,
   "metadata": {
    "colab": {
     "base_uri": "https://localhost:8080/",
     "height": 143
    },
    "id": "gKbRG1KeRVsr",
    "outputId": "0f5cda19-b05e-4fd4-fac9-3928a57e4861"
   },
   "outputs": [],
   "source": [
    "# DataFrame można m.in. stworzyć z arraya numpy\n",
    "\n",
    "import pandas as pd\n",
    "\n",
    "array_to_pd = np.array([[7,20],[9,60],[21,120]])\n",
    "\n",
    "# Warto zauważyć, że dane wyświetlają się ładnie w notebooku\n",
    "df = pd.DataFrame(array_to_pd, columns=(\"Kolumna 1\", \"Kolumna 2\"))\n",
    "df"
   ]
  },
  {
   "cell_type": "code",
   "execution_count": null,
   "metadata": {
    "colab": {
     "base_uri": "https://localhost:8080/"
    },
    "id": "eotcLUmqSOUx",
    "outputId": "6341f155-4bfe-4cdf-bf94-5735f45672cd"
   },
   "outputs": [],
   "source": [
    "# Można też zamienić dataframe z powrotem w array:\n",
    "\n",
    "print(df.to_numpy())"
   ]
  },
  {
   "cell_type": "code",
   "execution_count": null,
   "metadata": {
    "colab": {
     "base_uri": "https://localhost:8080/"
    },
    "id": "OBE3L4VxSY4p",
    "outputId": "cafeaf93-f5df-48d1-b3a0-31e72d50393b"
   },
   "outputs": [],
   "source": [
    "# Dostęp do określonych elementów DataFrame jest możliwy za pomocą nazw kolumn\n",
    "\n",
    "print(df[\"Kolumna 1\"])\n",
    "print(df[\"Kolumna 1\"][0])"
   ]
  },
  {
   "cell_type": "code",
   "execution_count": null,
   "metadata": {
    "colab": {
     "base_uri": "https://localhost:8080/"
    },
    "id": "GLjDqUQsS6QY",
    "outputId": "631caefb-b397-4ae6-fdce-916dbe9ff48a"
   },
   "outputs": [],
   "source": [
    "# inną funkcja pozwalającą na dostęp do elementów DataFrame jest funkcja iloc,\n",
    "# działająca podobnie jak adresowanie elementów w numpy\n",
    "\n",
    "# pojedynczy element\n",
    "print(df.iloc[0,0])\n",
    "\n",
    "# pojedynczy wiersz\n",
    "print(df.iloc[0])\n",
    "\n",
    "# pojedyncza kolumna\n",
    "print(df.iloc[:,0])"
   ]
  },
  {
   "cell_type": "code",
   "execution_count": null,
   "metadata": {
    "colab": {
     "base_uri": "https://localhost:8080/",
     "height": 424
    },
    "id": "PKotm3u1Tqih",
    "outputId": "99e50fad-f606-40b3-810e-4576544a1476"
   },
   "outputs": [],
   "source": [
    "# często pandas wykorzystywany jest do wygodnego pobierania danych z csv\n",
    "# wykorzystamy przykładowy plik dostępny w /sample_data w colabie\n",
    "\n",
    "file = open(\"sample_data/california_housing_test.csv\", \"r\")\n",
    "\n",
    "df_from_file = pd.read_csv(file)\n",
    "\n",
    "df_from_file"
   ]
  },
  {
   "cell_type": "code",
   "execution_count": null,
   "metadata": {
    "colab": {
     "base_uri": "https://localhost:8080/"
    },
    "id": "BJGu6fOwU4lb",
    "outputId": "7ec317b0-f7ff-429e-dbe2-4d1592845f35"
   },
   "outputs": [],
   "source": [
    "# jeżeli pobraliśmy z pliku dane, możemy przejrzeć np. ich kolumny\n",
    "\n",
    "df_from_file.columns"
   ]
  },
  {
   "cell_type": "code",
   "execution_count": null,
   "metadata": {
    "colab": {
     "base_uri": "https://localhost:8080/"
    },
    "id": "GcQxw-GQVMqa",
    "outputId": "e184c0e9-4926-4854-b9c7-de63b890529b"
   },
   "outputs": [],
   "source": [
    "# rozmiar ramki znajdziemy pod atrybutem size i shape, podobnie jak w numpy:\n",
    "\n",
    "print(df_from_file.size)\n",
    "print(df_from_file.shape)"
   ]
  },
  {
   "cell_type": "code",
   "execution_count": null,
   "metadata": {
    "colab": {
     "base_uri": "https://localhost:8080/"
    },
    "id": "viC5dA4sUqWD",
    "outputId": "916296ba-b394-4621-a78d-00a461653dcf"
   },
   "outputs": [],
   "source": [
    "# na danych w dataframe możemy operować podobnie jak na arrayach numpy\n",
    "\n",
    "# liczenie średniej dla każdej kolumny z osobna\n",
    "print(df_from_file.mean())"
   ]
  },
  {
   "cell_type": "markdown",
   "metadata": {
    "id": "jSoqHJ4fh1QC"
   },
   "source": [
    "## Materiały do nauki Pandas:\n",
    "\n",
    "https://pandas.pydata.org/docs/user_guide/10min.html"
   ]
  },
  {
   "cell_type": "markdown",
   "metadata": {
    "id": "Yne6Dl7zi5fR"
   },
   "source": [
    "## Matplotlib\n",
    "\n",
    "Bardzo wygodną biblioteką do rysowania wykresów jest matplotlib, kompatybilny z biblioteką numpy. Pozwala tworzyć bardzo ładne wykresy 2-wymiarowe, heatmapy, a nawet animowane wykresy 3d znacznie prościej niż takie narzędzia jak gnuplot."
   ]
  },
  {
   "cell_type": "code",
   "execution_count": null,
   "metadata": {
    "id": "Rnqi9ZacjrHF"
   },
   "outputs": [],
   "source": [
    "import matplotlib.pyplot as plt"
   ]
  },
  {
   "cell_type": "code",
   "execution_count": null,
   "metadata": {
    "colab": {
     "base_uri": "https://localhost:8080/",
     "height": 447
    },
    "id": "qKWMUMQLj7_M",
    "outputId": "c19a019e-bfce-4c1f-b1df-98de888162b9"
   },
   "outputs": [],
   "source": [
    "# Jedną z podstawowych funkcji jest scatter, który rysuje punkty.\n",
    "# 1-szy argument to pozycje x punktów, 2-gi argument to pozycje y punktów.\n",
    "# Argument c pozwala na kontrolę koloru punktów. Może być podany jako litera,\n",
    "# albo jako tablica\n",
    "\n",
    "X = np.array([0.3,1.7,-0.6,0.])\n",
    "Y = np.array([0.,1.0,1.0,-0.3])\n",
    "\n",
    "plt.scatter(X,Y, c = 'r')"
   ]
  },
  {
   "cell_type": "code",
   "execution_count": null,
   "metadata": {
    "colab": {
     "base_uri": "https://localhost:8080/",
     "height": 447
    },
    "id": "bs3-95heknNc",
    "outputId": "807c31fc-6c80-42e6-b7c1-0ef313e0c7d3"
   },
   "outputs": [],
   "source": [
    "# Dysponując arrayem punktów, scatter można używać wykorzystując indeksowanie NumPy.\n",
    "\n",
    "XX = np.array([[0.,0.],[1.,1.],[2.,2.],[3.,3.]])\n",
    "plt.scatter(XX[:,0], XX[:,1], c = 'g')"
   ]
  },
  {
   "cell_type": "code",
   "execution_count": null,
   "metadata": {
    "colab": {
     "base_uri": "https://localhost:8080/",
     "height": 447
    },
    "id": "fArGX28alBlz",
    "outputId": "c6d80c3b-9a9a-4893-a061-8e917e501196"
   },
   "outputs": [],
   "source": [
    "# Funkcja plot pozwala rysować zwykłe wykresy\n",
    "X = np.linspace(-10,10,200)\n",
    "Y = np.sin(X)**2.\n",
    "\n",
    "# Pierwszym argumentem plot są pozycje x, drugim pozycje y, trzecim styl.\n",
    "# Styl składa się z różnych elementów, ale przede wszystkim ze stylu linii i koloru\n",
    "\n",
    "plt.plot(X, Y, '-r')"
   ]
  },
  {
   "cell_type": "code",
   "execution_count": null,
   "metadata": {
    "colab": {
     "base_uri": "https://localhost:8080/",
     "height": 447
    },
    "id": "m1-eGgLMmv8u",
    "outputId": "705613b1-15b0-4b0d-f3d6-5e3ad7202a2a"
   },
   "outputs": [],
   "source": [
    "# W innym stylu ten wykres może wyglądać np. tak:\n",
    "\n",
    "plt.plot(X, Y, '+b')"
   ]
  },
  {
   "cell_type": "code",
   "execution_count": null,
   "metadata": {
    "colab": {
     "base_uri": "https://localhost:8080/",
     "height": 489
    },
    "id": "os-u2XQEm-wM",
    "outputId": "8076375a-552d-4da9-a1c0-ae175a6eed07"
   },
   "outputs": [],
   "source": [
    "# Możemy dodać do wykresu tytuł, oznaczyć osie i wykresy\n",
    "Y2 = np.cos(0.8*X)+0.3*X\n",
    "\n",
    "plt.plot(X, Y, '-c',label=\"Funkcja 1\")\n",
    "plt.plot(X, Y2, '-r', label = \"функція 2\")\n",
    "\n",
    "# legend wymusza pokazanie labeli, które umieśiliśmy w wykresach\n",
    "plt.legend()\n",
    "\n",
    "plt.xlabel(\"Oś x\")\n",
    "plt.ylabel(\"Oś y\")\n",
    "plt.title(\"Przykładowy wykres\")\n",
    "\n",
    "# Warto zauważyć, że większość znaków unicode powinno działać (np. znaki polskie,\n",
    "# ukraińskie, itp)\n",
    "# i powinny wyświetlać się poprawnie"
   ]
  },
  {
   "cell_type": "code",
   "execution_count": null,
   "metadata": {
    "colab": {
     "base_uri": "https://localhost:8080/",
     "height": 469
    },
    "id": "6ApTnE-HowGd",
    "outputId": "021bfc74-6944-43b3-d388-ba142d473717"
   },
   "outputs": [],
   "source": [
    "# Innym przydatnym narzędziem jest np. histogram\n",
    "\n",
    "random_numbers = np.random.normal(0,1,1000)\n",
    "\n",
    "# argumentem bins sterujemy ilością słupków\n",
    "# możemy podać liczbę słupków albo 'auto'\n",
    "plt.hist(random_numbers,bins='auto')\n",
    "plt.title(\"Rozkład normalny\")"
   ]
  },
  {
   "cell_type": "code",
   "execution_count": null,
   "metadata": {
    "colab": {
     "base_uri": "https://localhost:8080/",
     "height": 466
    },
    "id": "2m05OcQlVldu",
    "outputId": "c4fbb599-a667-47f5-9a56-edabbb32aac5"
   },
   "outputs": [],
   "source": [
    "# oczywiście można wykorzystywać pandas i matplotlib razem\n",
    "\n",
    "# funkcja plot pozwala rysować bezpośrednio z DataFrame\n",
    "\n",
    "df_from_file.plot(kind='scatter',x='longitude',y='latitude')"
   ]
  },
  {
   "cell_type": "markdown",
   "metadata": {
    "id": "iaYXNspJqxBp"
   },
   "source": [
    "### Materiały do nauki matplotliba:\n",
    "\n",
    "https://matplotlib.org/stable/users/explain/quick_start.html"
   ]
  }
 ],
 "metadata": {
  "colab": {
   "provenance": []
  },
  "kernelspec": {
   "display_name": "Python (new version)",
   "language": "python",
   "name": "python_new"
  },
  "language_info": {
   "codemirror_mode": {
    "name": "ipython",
    "version": 3
   },
   "file_extension": ".py",
   "mimetype": "text/x-python",
   "name": "python",
   "nbconvert_exporter": "python",
   "pygments_lexer": "ipython3",
   "version": "3.12.7"
  }
 },
 "nbformat": 4,
 "nbformat_minor": 4
}
